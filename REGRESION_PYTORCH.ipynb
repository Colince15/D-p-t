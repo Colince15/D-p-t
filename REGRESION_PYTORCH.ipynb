{
 "cells": [
  {
   "cell_type": "code",
   "execution_count": null,
   "metadata": {},
   "outputs": [],
   "source": [
    "import pandas as pd\n",
    "import numpy as np\n",
    "import torch\n",
    "import torch.nn as nn\n",
    "import torch.optim as optim\n",
    "\n",
    "# Je rajoute mes modifcation\n",
    "import sklearn\n",
    "import seaborn as sns"
   ]
  },
  {
   "cell_type": "code",
   "execution_count": 119,
   "metadata": {},
   "outputs": [
    {
     "data": {
      "text/html": [
       "<div>\n",
       "<style scoped>\n",
       "    .dataframe tbody tr th:only-of-type {\n",
       "        vertical-align: middle;\n",
       "    }\n",
       "\n",
       "    .dataframe tbody tr th {\n",
       "        vertical-align: top;\n",
       "    }\n",
       "\n",
       "    .dataframe thead th {\n",
       "        text-align: right;\n",
       "    }\n",
       "</style>\n",
       "<table border=\"1\" class=\"dataframe\">\n",
       "  <thead>\n",
       "    <tr style=\"text-align: right;\">\n",
       "      <th></th>\n",
       "      <th>cement</th>\n",
       "      <th>slag</th>\n",
       "      <th>ash</th>\n",
       "      <th>water</th>\n",
       "      <th>superplastic</th>\n",
       "      <th>coarseagg</th>\n",
       "      <th>fineagg</th>\n",
       "      <th>age</th>\n",
       "      <th>strength</th>\n",
       "    </tr>\n",
       "  </thead>\n",
       "  <tbody>\n",
       "    <tr>\n",
       "      <th>0</th>\n",
       "      <td>540.0</td>\n",
       "      <td>0.0</td>\n",
       "      <td>0.0</td>\n",
       "      <td>162.0</td>\n",
       "      <td>2.5</td>\n",
       "      <td>1040.0</td>\n",
       "      <td>676.0</td>\n",
       "      <td>28</td>\n",
       "      <td>79.99</td>\n",
       "    </tr>\n",
       "    <tr>\n",
       "      <th>1</th>\n",
       "      <td>540.0</td>\n",
       "      <td>0.0</td>\n",
       "      <td>0.0</td>\n",
       "      <td>162.0</td>\n",
       "      <td>2.5</td>\n",
       "      <td>1055.0</td>\n",
       "      <td>676.0</td>\n",
       "      <td>28</td>\n",
       "      <td>61.89</td>\n",
       "    </tr>\n",
       "    <tr>\n",
       "      <th>2</th>\n",
       "      <td>332.5</td>\n",
       "      <td>142.5</td>\n",
       "      <td>0.0</td>\n",
       "      <td>228.0</td>\n",
       "      <td>0.0</td>\n",
       "      <td>932.0</td>\n",
       "      <td>594.0</td>\n",
       "      <td>270</td>\n",
       "      <td>40.27</td>\n",
       "    </tr>\n",
       "    <tr>\n",
       "      <th>3</th>\n",
       "      <td>332.5</td>\n",
       "      <td>142.5</td>\n",
       "      <td>0.0</td>\n",
       "      <td>228.0</td>\n",
       "      <td>0.0</td>\n",
       "      <td>932.0</td>\n",
       "      <td>594.0</td>\n",
       "      <td>365</td>\n",
       "      <td>41.05</td>\n",
       "    </tr>\n",
       "    <tr>\n",
       "      <th>4</th>\n",
       "      <td>198.6</td>\n",
       "      <td>132.4</td>\n",
       "      <td>0.0</td>\n",
       "      <td>192.0</td>\n",
       "      <td>0.0</td>\n",
       "      <td>978.4</td>\n",
       "      <td>825.5</td>\n",
       "      <td>360</td>\n",
       "      <td>44.30</td>\n",
       "    </tr>\n",
       "    <tr>\n",
       "      <th>...</th>\n",
       "      <td>...</td>\n",
       "      <td>...</td>\n",
       "      <td>...</td>\n",
       "      <td>...</td>\n",
       "      <td>...</td>\n",
       "      <td>...</td>\n",
       "      <td>...</td>\n",
       "      <td>...</td>\n",
       "      <td>...</td>\n",
       "    </tr>\n",
       "    <tr>\n",
       "      <th>1025</th>\n",
       "      <td>276.4</td>\n",
       "      <td>116.0</td>\n",
       "      <td>90.3</td>\n",
       "      <td>179.6</td>\n",
       "      <td>8.9</td>\n",
       "      <td>870.1</td>\n",
       "      <td>768.3</td>\n",
       "      <td>28</td>\n",
       "      <td>44.28</td>\n",
       "    </tr>\n",
       "    <tr>\n",
       "      <th>1026</th>\n",
       "      <td>322.2</td>\n",
       "      <td>0.0</td>\n",
       "      <td>115.6</td>\n",
       "      <td>196.0</td>\n",
       "      <td>10.4</td>\n",
       "      <td>817.9</td>\n",
       "      <td>813.4</td>\n",
       "      <td>28</td>\n",
       "      <td>31.18</td>\n",
       "    </tr>\n",
       "    <tr>\n",
       "      <th>1027</th>\n",
       "      <td>148.5</td>\n",
       "      <td>139.4</td>\n",
       "      <td>108.6</td>\n",
       "      <td>192.7</td>\n",
       "      <td>6.1</td>\n",
       "      <td>892.4</td>\n",
       "      <td>780.0</td>\n",
       "      <td>28</td>\n",
       "      <td>23.70</td>\n",
       "    </tr>\n",
       "    <tr>\n",
       "      <th>1028</th>\n",
       "      <td>159.1</td>\n",
       "      <td>186.7</td>\n",
       "      <td>0.0</td>\n",
       "      <td>175.6</td>\n",
       "      <td>11.3</td>\n",
       "      <td>989.6</td>\n",
       "      <td>788.9</td>\n",
       "      <td>28</td>\n",
       "      <td>32.77</td>\n",
       "    </tr>\n",
       "    <tr>\n",
       "      <th>1029</th>\n",
       "      <td>260.9</td>\n",
       "      <td>100.5</td>\n",
       "      <td>78.3</td>\n",
       "      <td>200.6</td>\n",
       "      <td>8.6</td>\n",
       "      <td>864.5</td>\n",
       "      <td>761.5</td>\n",
       "      <td>28</td>\n",
       "      <td>32.40</td>\n",
       "    </tr>\n",
       "  </tbody>\n",
       "</table>\n",
       "<p>1030 rows × 9 columns</p>\n",
       "</div>"
      ],
      "text/plain": [
       "      cement   slag    ash  water  superplastic  coarseagg  fineagg  age  \\\n",
       "0      540.0    0.0    0.0  162.0           2.5     1040.0    676.0   28   \n",
       "1      540.0    0.0    0.0  162.0           2.5     1055.0    676.0   28   \n",
       "2      332.5  142.5    0.0  228.0           0.0      932.0    594.0  270   \n",
       "3      332.5  142.5    0.0  228.0           0.0      932.0    594.0  365   \n",
       "4      198.6  132.4    0.0  192.0           0.0      978.4    825.5  360   \n",
       "...      ...    ...    ...    ...           ...        ...      ...  ...   \n",
       "1025   276.4  116.0   90.3  179.6           8.9      870.1    768.3   28   \n",
       "1026   322.2    0.0  115.6  196.0          10.4      817.9    813.4   28   \n",
       "1027   148.5  139.4  108.6  192.7           6.1      892.4    780.0   28   \n",
       "1028   159.1  186.7    0.0  175.6          11.3      989.6    788.9   28   \n",
       "1029   260.9  100.5   78.3  200.6           8.6      864.5    761.5   28   \n",
       "\n",
       "      strength  \n",
       "0        79.99  \n",
       "1        61.89  \n",
       "2        40.27  \n",
       "3        41.05  \n",
       "4        44.30  \n",
       "...        ...  \n",
       "1025     44.28  \n",
       "1026     31.18  \n",
       "1027     23.70  \n",
       "1028     32.77  \n",
       "1029     32.40  \n",
       "\n",
       "[1030 rows x 9 columns]"
      ]
     },
     "execution_count": 119,
     "metadata": {},
     "output_type": "execute_result"
    }
   ],
   "source": [
    "data = pd.read_csv('concrete.csv')\n",
    "data"
   ]
  },
  {
   "cell_type": "code",
   "execution_count": 120,
   "metadata": {},
   "outputs": [
    {
     "data": {
      "text/plain": [
       "cement          float64\n",
       "slag            float64\n",
       "ash             float64\n",
       "water           float64\n",
       "superplastic    float64\n",
       "coarseagg       float64\n",
       "fineagg         float64\n",
       "age               int64\n",
       "strength        float64\n",
       "dtype: object"
      ]
     },
     "execution_count": 120,
     "metadata": {},
     "output_type": "execute_result"
    }
   ],
   "source": [
    "data.dtypes"
   ]
  },
  {
   "cell_type": "code",
   "execution_count": 121,
   "metadata": {},
   "outputs": [
    {
     "data": {
      "text/plain": [
       "cement          0\n",
       "slag            0\n",
       "ash             0\n",
       "water           0\n",
       "superplastic    0\n",
       "coarseagg       0\n",
       "fineagg         0\n",
       "age             0\n",
       "strength        0\n",
       "dtype: int64"
      ]
     },
     "execution_count": 121,
     "metadata": {},
     "output_type": "execute_result"
    }
   ],
   "source": [
    "data.isna().sum()"
   ]
  },
  {
   "cell_type": "code",
   "execution_count": 122,
   "metadata": {},
   "outputs": [
    {
     "data": {
      "text/plain": [
       "0       False\n",
       "1       False\n",
       "2       False\n",
       "3       False\n",
       "4       False\n",
       "        ...  \n",
       "1025    False\n",
       "1026    False\n",
       "1027    False\n",
       "1028    False\n",
       "1029    False\n",
       "Length: 1030, dtype: bool"
      ]
     },
     "execution_count": 122,
     "metadata": {},
     "output_type": "execute_result"
    }
   ],
   "source": [
    "duplicates = data.duplicated()\n",
    "duplicates"
   ]
  },
  {
   "cell_type": "code",
   "execution_count": 123,
   "metadata": {},
   "outputs": [
    {
     "data": {
      "text/plain": [
       "False    1005\n",
       "True       25\n",
       "Name: count, dtype: int64"
      ]
     },
     "execution_count": 123,
     "metadata": {},
     "output_type": "execute_result"
    }
   ],
   "source": [
    "\n",
    "duplicates.value_counts()"
   ]
  },
  {
   "cell_type": "code",
   "execution_count": 124,
   "metadata": {},
   "outputs": [],
   "source": [
    "new = data.drop_duplicates()"
   ]
  },
  {
   "cell_type": "code",
   "execution_count": 125,
   "metadata": {},
   "outputs": [
    {
     "data": {
      "text/plain": [
       "False    1005\n",
       "Name: count, dtype: int64"
      ]
     },
     "execution_count": 125,
     "metadata": {},
     "output_type": "execute_result"
    }
   ],
   "source": [
    "new.duplicated().value_counts()"
   ]
  },
  {
   "cell_type": "code",
   "execution_count": 126,
   "metadata": {},
   "outputs": [
    {
     "data": {
      "text/plain": [
       "Index(['cement', 'slag', 'ash', 'water', 'superplastic', 'coarseagg',\n",
       "       'fineagg', 'age', 'strength'],\n",
       "      dtype='object')"
      ]
     },
     "execution_count": 126,
     "metadata": {},
     "output_type": "execute_result"
    }
   ],
   "source": [
    "new.columns"
   ]
  },
  {
   "cell_type": "code",
   "execution_count": 127,
   "metadata": {},
   "outputs": [
    {
     "data": {
      "text/plain": [
       "<Axes: ylabel='cement'>"
      ]
     },
     "execution_count": 127,
     "metadata": {},
     "output_type": "execute_result"
    },
    {
     "data": {
      "image/png": "[encoded data removed]",
      "text/plain": [
       "<Figure size 640x480 with 1 Axes>"
      ]
     },
     "metadata": {},
     "output_type": "display_data"
    }
   ],
   "source": [
    "sns.boxplot(new['cement'])"
   ]
  },
  {
   "cell_type": "code",
   "execution_count": 128,
   "metadata": {},
   "outputs": [
    {
     "data": {
      "text/plain": [
       "<Axes: ylabel='superplastic'>"
      ]
     },
     "execution_count": 128,
     "metadata": {},
     "output_type": "execute_result"
    },
    {
     "data": {
      "image/png": "[encoded data removed]",
      "text/plain": [
       "<Figure size 640x480 with 1 Axes>"
      ]
     },
     "metadata": {},
     "output_type": "display_data"
    }
   ],
   "source": [
    "sns.boxplot(new['superplastic'])"
   ]
  },
  {
   "cell_type": "code",
   "execution_count": 129,
   "metadata": {},
   "outputs": [],
   "source": [
    "new= new[new.superplastic <= 25]"
   ]
  },
  {
   "cell_type": "code",
   "execution_count": 130,
   "metadata": {},
   "outputs": [
    {
     "data": {
      "text/plain": [
       "<Axes: ylabel='superplastic'>"
      ]
     },
     "execution_count": 130,
     "metadata": {},
     "output_type": "execute_result"
    },
    {
     "data": {
      "image/png": "[encoded data removed]",
      "text/plain": [
       "<Figure size 640x480 with 1 Axes>"
      ]
     },
     "metadata": {},
     "output_type": "display_data"
    }
   ],
   "source": [
    "sns.boxplot(new['superplastic'])"
   ]
  },
  {
   "cell_type": "code",
   "execution_count": 131,
   "metadata": {},
   "outputs": [
    {
     "data": {
      "text/plain": [
       "<Axes: ylabel='age'>"
      ]
     },
     "execution_count": 131,
     "metadata": {},
     "output_type": "execute_result"
    },
    {
     "data": {
      "image/png": "[encoded data removed]",
      "text/plain": [
       "<Figure size 640x480 with 1 Axes>"
      ]
     },
     "metadata": {},
     "output_type": "display_data"
    }
   ],
   "source": [
    "sns.boxplot(new['age'])"
   ]
  },
  {
   "cell_type": "code",
   "execution_count": 132,
   "metadata": {},
   "outputs": [],
   "source": [
    "new= new[new.age <= 60]"
   ]
  },
  {
   "cell_type": "code",
   "execution_count": 133,
   "metadata": {},
   "outputs": [
    {
     "data": {
      "text/plain": [
       "<Axes: ylabel='age'>"
      ]
     },
     "execution_count": 133,
     "metadata": {},
     "output_type": "execute_result"
    },
    {
     "data": {
      "image/png": "[encoded data removed]",
      "text/plain": [
       "<Figure size 640x480 with 1 Axes>"
      ]
     },
     "metadata": {},
     "output_type": "display_data"
    }
   ],
   "source": [
    "sns.boxplot(new['age'])"
   ]
  },
  {
   "cell_type": "code",
   "execution_count": 134,
   "metadata": {},
   "outputs": [
    {
     "data": {
      "text/plain": [
       "<Axes: ylabel='water'>"
      ]
     },
     "execution_count": 134,
     "metadata": {},
     "output_type": "execute_result"
    },
    {
     "data": {
      "image/png": "[encoded data removed]",
      "text/plain": [
       "<Figure size 640x480 with 1 Axes>"
      ]
     },
     "metadata": {},
     "output_type": "display_data"
    }
   ],
   "source": [
    "sns.boxplot(new['water'])"
   ]
  },
  {
   "cell_type": "code",
   "execution_count": 135,
   "metadata": {},
   "outputs": [],
   "source": [
    "new= new[new.water <= 220]"
   ]
  },
  {
   "cell_type": "code",
   "execution_count": 136,
   "metadata": {},
   "outputs": [],
   "source": [
    "new = new[new.water >= 140]"
   ]
  },
  {
   "cell_type": "code",
   "execution_count": 137,
   "metadata": {},
   "outputs": [
    {
     "data": {
      "text/plain": [
       "<Axes: ylabel='water'>"
      ]
     },
     "execution_count": 137,
     "metadata": {},
     "output_type": "execute_result"
    },
    {
     "data": {
      "image/png": "[encoded data removed]",
      "text/plain": [
       "<Figure size 640x480 with 1 Axes>"
      ]
     },
     "metadata": {},
     "output_type": "display_data"
    }
   ],
   "source": [
    "sns.boxplot(new['water'])"
   ]
  },
  {
   "cell_type": "code",
   "execution_count": 138,
   "metadata": {},
   "outputs": [],
   "source": [
    "new.to_csv('new_concrete1.csv',index = False)"
   ]
  },
  {
   "cell_type": "code",
   "execution_count": 139,
   "metadata": {},
   "outputs": [],
   "source": [
    "df = pd.read_csv('new_concrete1.csv')"
   ]
  },
  {
   "cell_type": "code",
   "execution_count": 140,
   "metadata": {},
   "outputs": [],
   "source": [
    "#SPLIT X et y\n",
    "X = df.drop(['strength'], axis =1)\n",
    "y = df[['strength']]"
   ]
  },
  {
   "cell_type": "code",
   "execution_count": 141,
   "metadata": {},
   "outputs": [],
   "source": [
    "#train test split\n",
    "from sklearn.model_selection import train_test_split\n",
    "X_train, X_test, y_train, y_test = train_test_split(X,y, test_size=0.25, random_state=42)"
   ]
  },
  {
   "cell_type": "code",
   "execution_count": 142,
   "metadata": {},
   "outputs": [],
   "source": [
    "#Transformatoion en torch tensor\n",
    "\n",
    "X_train = torch.tensor(X_train.values, dtype= torch.float32)\n",
    "X_test = torch.tensor(X_test.values, dtype= torch.float32)\n",
    "y_train = torch.tensor(y_train.values, dtype= torch.float32)\n",
    "y_test = torch.tensor(y_test.values, dtype= torch.float32)"
   ]
  },
  {
   "cell_type": "code",
   "execution_count": 143,
   "metadata": {},
   "outputs": [
    {
     "data": {
      "text/plain": [
       "tensor([[ 277.1000,    0.0000,   97.4000,  ...,  973.9000,  875.6000,\n",
       "            3.0000],\n",
       "        [ 425.0000,  106.3000,    0.0000,  ...,  852.1000,  887.1000,\n",
       "            7.0000],\n",
       "        [ 149.0000,  117.6000,   91.7000,  ...,  953.4000,  780.3000,\n",
       "           28.0000],\n",
       "        ...,\n",
       "        [ 167.0000,   75.4000,  167.0000,  ..., 1007.3000,  770.1000,\n",
       "           14.0000],\n",
       "        [ 254.0000,    0.0000,    0.0000,  ...,  968.0000,  863.0000,\n",
       "            3.0000],\n",
       "        [ 166.1000,    0.0000,  163.3000,  ..., 1058.6000,  780.1000,\n",
       "           28.0000]])"
      ]
     },
     "execution_count": 143,
     "metadata": {},
     "output_type": "execute_result"
    }
   ],
   "source": [
    "X_train"
   ]
  },
  {
   "cell_type": "code",
   "execution_count": 144,
   "metadata": {},
   "outputs": [
    {
     "data": {
      "text/plain": [
       "(780, 9)"
      ]
     },
     "execution_count": 144,
     "metadata": {},
     "output_type": "execute_result"
    }
   ],
   "source": [
    "df.shape"
   ]
  },
  {
   "cell_type": "code",
   "execution_count": 145,
   "metadata": {},
   "outputs": [],
   "source": [
    "# #ARCHITECTURE NEURAL NETWORK AVEC Pytorch\n",
    "\n",
    "# class LinearRegression(nn.Module):\n",
    "#     def __init__(self,input_dim):\n",
    "#         super(LinearRegression,self).__init__()\n",
    "#         self.fc1 = nn.Linear(input_dim,10)\n",
    "#         self.fc2 = nn.Linear(10,5)\n",
    "#         self.fc3 = nn.Linear(5,3)\n",
    "#         self.fc4 = nn.Linear(3,1)\n",
    "\n",
    "#     def forward(self,d):\n",
    "#         out = torch.relu(self.fc1(d))\n",
    "#         out = torch.relu(self.fc2(out))\n",
    "#         out = torch.relu(self.fc3(out))\n",
    "#         out = self.fc4(out)\n",
    "#         return out\n",
    "# input_dim = X_train.shape[1]\n",
    "# torch.manual_seed(25)\n",
    "# model = LinearRegression(input_dim)"
   ]
  },
  {
   "cell_type": "code",
   "execution_count": 148,
   "metadata": {},
   "outputs": [],
   "source": [
    "# since data is ready we can develop the model:\n",
    "\n",
    "class linearRegression(nn.Module): # all the dependencies from torch will be given to this class [parent class] # nn.Module contains all the building block of neural networks:\n",
    "  def __init__(self,input_dim):    #nitialisation de la classe\n",
    "    super(linearRegression,self).__init__()  # building connection with parent and child classes\n",
    "    self.fc1=nn.Linear(input_dim,10)          # hidden layer 1\n",
    "    self.fc2=nn.Linear(10,5)                  # hidden layer 2\n",
    "    self.fc3=nn.Linear(5,3)                   # hidden layer 3\n",
    "    self.fc4=nn.Linear(3,1)                   # last layer\n",
    "\n",
    "  def forward(self,d):\n",
    "    out=torch.relu(self.fc1(d))              # input * weights + bias for layer 1\n",
    "    out=torch.relu(self.fc2(out))            # input * weights + bias for layer 2\n",
    "    out=torch.relu(self.fc3(out))            # input * weights + bias for layer 3\n",
    "    out=self.fc4(out)                        # input * weights + bias for last layer\n",
    "    return out                               # final outcome\n",
    "\n",
    "input_dim=X_train.shape[1]\n",
    "torch.manual_seed(42)  # to make initilized weights stable:\n",
    "model=linearRegression(input_dim)"
   ]
  },
  {
   "cell_type": "code",
   "execution_count": 149,
   "metadata": {},
   "outputs": [],
   "source": [
    "# optimizer et loss function\n",
    "loss = nn.MSELoss()\n",
    "optimizers = optim.Adam(params = model.parameters(),lr= 0.01)"
   ]
  },
  {
   "cell_type": "code",
   "execution_count": 150,
   "metadata": {},
   "outputs": [
    {
     "name": "stderr",
     "output_type": "stream",
     "text": [
      "d:\\Environnements\\ANN\\envPytorch\\lib\\site-packages\\torch\\nn\\modules\\loss.py:608: UserWarning: Using a target size (torch.Size([585, 1])) that is different to the input size (torch.Size([585])). This will likely lead to incorrect results due to broadcasting. Please ensure they have the same size.\n",
      "  return F.mse_loss(input, target, reduction=self.reduction)\n"
     ]
    },
    {
     "name": "stdout",
     "output_type": "stream",
     "text": [
      "[epoch:0]:The loss value for training is 1309.18408203125\n",
      "[epoch:10]:The loss value for training is 1294.2203369140625\n",
      "[epoch:20]:The loss value for training is 1279.553955078125\n",
      "[epoch:30]:The loss value for training is 1264.4376220703125\n",
      "[epoch:40]:The loss value for training is 1248.2547607421875\n",
      "[epoch:50]:The loss value for training is 1230.436279296875\n",
      "[epoch:60]:The loss value for training is 1210.668701171875\n",
      "[epoch:70]:The loss value for training is 1188.3043212890625\n",
      "[epoch:80]:The loss value for training is 1163.349853515625\n",
      "[epoch:90]:The loss value for training is 1135.8760986328125\n",
      "[epoch:100]:The loss value for training is 1106.0059814453125\n",
      "[epoch:110]:The loss value for training is 1073.907958984375\n",
      "[epoch:120]:The loss value for training is 1039.788330078125\n",
      "[epoch:130]:The loss value for training is 1003.8850708007812\n",
      "[epoch:140]:The loss value for training is 966.4622802734375\n",
      "[epoch:150]:The loss value for training is 927.8043212890625\n",
      "[epoch:160]:The loss value for training is 888.211181640625\n",
      "[epoch:170]:The loss value for training is 847.9930419921875\n",
      "[epoch:180]:The loss value for training is 807.4659423828125\n",
      "[epoch:190]:The loss value for training is 766.945556640625\n",
      "[epoch:200]:The loss value for training is 726.7440795898438\n",
      "[epoch:210]:The loss value for training is 687.163818359375\n",
      "[epoch:220]:The loss value for training is 648.4932861328125\n",
      "[epoch:230]:The loss value for training is 611.0026245117188\n",
      "[epoch:240]:The loss value for training is 574.9393310546875\n",
      "[epoch:250]:The loss value for training is 540.523681640625\n",
      "[epoch:260]:The loss value for training is 507.94671630859375\n",
      "[epoch:270]:The loss value for training is 477.3652038574219\n",
      "[epoch:280]:The loss value for training is 448.90167236328125\n",
      "[epoch:290]:The loss value for training is 422.6408386230469\n",
      "[epoch:300]:The loss value for training is 398.63037109375\n",
      "[epoch:310]:The loss value for training is 376.880859375\n",
      "[epoch:320]:The loss value for training is 357.36737060546875\n",
      "[epoch:330]:The loss value for training is 340.0311584472656\n",
      "[epoch:340]:The loss value for training is 324.7843017578125\n",
      "[epoch:350]:The loss value for training is 311.512939453125\n",
      "[epoch:360]:The loss value for training is 300.0821838378906\n",
      "[epoch:370]:The loss value for training is 290.3417663574219\n",
      "[epoch:380]:The loss value for training is 282.13128662109375\n",
      "[epoch:390]:The loss value for training is 275.2859802246094\n",
      "[epoch:400]:The loss value for training is 269.6412353515625\n",
      "[epoch:410]:The loss value for training is 265.0373840332031\n",
      "[epoch:420]:The loss value for training is 261.3233337402344\n",
      "[epoch:430]:The loss value for training is 258.359375\n",
      "[epoch:440]:The loss value for training is 256.0192565917969\n",
      "[epoch:450]:The loss value for training is 254.19085693359375\n",
      "[epoch:460]:The loss value for training is 252.77699279785156\n",
      "[epoch:470]:The loss value for training is 251.6945343017578\n",
      "[epoch:480]:The loss value for training is 250.8738555908203\n",
      "[epoch:490]:The loss value for training is 250.25753784179688\n",
      "[epoch:500]:The loss value for training is 249.79888916015625\n",
      "[epoch:510]:The loss value for training is 249.46058654785156\n",
      "[epoch:520]:The loss value for training is 249.2132110595703\n",
      "[epoch:530]:The loss value for training is 249.03384399414062\n",
      "[epoch:540]:The loss value for training is 248.90481567382812\n",
      "[epoch:550]:The loss value for training is 248.81272888183594\n",
      "[epoch:560]:The loss value for training is 248.7474822998047\n",
      "[epoch:570]:The loss value for training is 248.7016143798828\n",
      "[epoch:580]:The loss value for training is 248.6696014404297\n",
      "[epoch:590]:The loss value for training is 248.6473846435547\n",
      "[epoch:600]:The loss value for training is 248.6321258544922\n",
      "[epoch:610]:The loss value for training is 248.62167358398438\n",
      "[epoch:620]:The loss value for training is 248.61459350585938\n",
      "[epoch:630]:The loss value for training is 248.6098175048828\n",
      "[epoch:640]:The loss value for training is 248.60659790039062\n",
      "[epoch:650]:The loss value for training is 248.6044464111328\n",
      "[epoch:660]:The loss value for training is 248.60304260253906\n",
      "[epoch:670]:The loss value for training is 248.6021270751953\n",
      "[epoch:680]:The loss value for training is 248.6015167236328\n",
      "[epoch:690]:The loss value for training is 248.6011199951172\n",
      "[epoch:700]:The loss value for training is 248.60086059570312\n",
      "[epoch:710]:The loss value for training is 248.6007080078125\n",
      "[epoch:720]:The loss value for training is 248.6005859375\n",
      "[epoch:730]:The loss value for training is 248.6005401611328\n",
      "[epoch:740]:The loss value for training is 248.6004638671875\n",
      "[epoch:750]:The loss value for training is 248.6004638671875\n",
      "[epoch:760]:The loss value for training is 248.60044860839844\n",
      "[epoch:770]:The loss value for training is 248.6004180908203\n",
      "[epoch:780]:The loss value for training is 248.6004180908203\n",
      "[epoch:790]:The loss value for training is 248.6004180908203\n",
      "[epoch:800]:The loss value for training is 248.6004180908203\n",
      "[epoch:810]:The loss value for training is 248.6004180908203\n",
      "[epoch:820]:The loss value for training is 248.60044860839844\n",
      "[epoch:830]:The loss value for training is 248.60044860839844\n",
      "[epoch:840]:The loss value for training is 248.60044860839844\n",
      "[epoch:850]:The loss value for training is 248.6004180908203\n",
      "[epoch:860]:The loss value for training is 248.6004180908203\n",
      "[epoch:870]:The loss value for training is 248.6004180908203\n",
      "[epoch:880]:The loss value for training is 248.60044860839844\n",
      "[epoch:890]:The loss value for training is 248.6004180908203\n",
      "[epoch:900]:The loss value for training is 248.60044860839844\n",
      "[epoch:910]:The loss value for training is 248.60044860839844\n",
      "[epoch:920]:The loss value for training is 248.60044860839844\n",
      "[epoch:930]:The loss value for training is 248.60044860839844\n",
      "[epoch:940]:The loss value for training is 248.60044860839844\n",
      "[epoch:950]:The loss value for training is 248.60044860839844\n",
      "[epoch:960]:The loss value for training is 248.60044860839844\n",
      "[epoch:970]:The loss value for training is 248.60044860839844\n",
      "[epoch:980]:The loss value for training is 248.60044860839844\n",
      "[epoch:990]:The loss value for training is 248.60044860839844\n"
     ]
    }
   ],
   "source": [
    "#Training the model\n",
    "num_of_epochs = 1000\n",
    "for i in range(num_of_epochs):\n",
    "    y_train_prediction = model(X_train)\n",
    "    loss_value = loss(y_train_prediction.squeeze(),y_train) #definition loss\n",
    "    optimizers.zero_grad()  #Gradient a 0 pour chaque iteration\n",
    "    loss_value.backward()  #Backpropagation\n",
    "    optimizers.step() #unpdate weights\n",
    "    #print the loss\n",
    "    if i%10 ==0:\n",
    "        print(f'[epoch:{i}]:The loss value for training is {loss_value}')"
   ]
  },
  {
   "cell_type": "code",
   "execution_count": 153,
   "metadata": {},
   "outputs": [
    {
     "name": "stdout",
     "output_type": "stream",
     "text": [
      "models\\linear_Regression.pth\n"
     ]
    }
   ],
   "source": [
    "#Saving the model\n",
    "from pathlib import Path\n",
    "filename = Path('models')\n",
    "filename.mkdir(parents=True,exist_ok=True)\n",
    "model_name = 'linear_Regression.pth'\n",
    "\n",
    "#Saving\n",
    "saving_path = filename/model_name\n",
    "print(saving_path)\n",
    "torch.save(obj=model.state_dict(),f=saving_path)"
   ]
  },
  {
   "cell_type": "code",
   "execution_count": 154,
   "metadata": {},
   "outputs": [
    {
     "name": "stderr",
     "output_type": "stream",
     "text": [
      "C:\\Users\\COMPUTER-STORE\\AppData\\Local\\Temp\\ipykernel_5948\\2964674071.py:3: FutureWarning: You are using `torch.load` with `weights_only=False` (the current default value), which uses the default pickle module implicitly. It is possible to construct malicious pickle data which will execute arbitrary code during unpickling (See https://github.com/pytorch/pytorch/blob/main/SECURITY.md#untrusted-models for more details). In a future release, the default value for `weights_only` will be flipped to `True`. This limits the functions that could be executed during unpickling. Arbitrary objects will no longer be allowed to be loaded via this mode unless they are explicitly allowlisted by the user via `torch.serialization.add_safe_globals`. We recommend you start setting `weights_only=True` for any use case where you don't have full control of the loaded file. Please open an issue on GitHub for any issues related to this experimental feature.\n",
      "  load_model.load_state_dict(torch.load('models\\linear_regression.pth'))\n"
     ]
    },
    {
     "data": {
      "text/plain": [
       "<All keys matched successfully>"
      ]
     },
     "execution_count": 154,
     "metadata": {},
     "output_type": "execute_result"
    }
   ],
   "source": [
    "#loader le modele\n",
    "load_model = linearRegression(input_dim)\n",
    "load_model.load_state_dict(torch.load('models\\linear_regression.pth'))"
   ]
  },
  {
   "cell_type": "code",
   "execution_count": 155,
   "metadata": {},
   "outputs": [
    {
     "name": "stdout",
     "output_type": "stream",
     "text": [
      "prediction value:32.57720947265625\n"
     ]
    }
   ],
   "source": [
    "#appel\n",
    "load_model.eval()\n",
    "with torch.no_grad():\n",
    "    pred = load_model(torch.tensor([[1.45,2.43,3.78,4.23,5.76,6.0,7.4,8.3]]))\n",
    "    print(f'prediction value:{pred.item()}')"
   ]
  },
  {
   "cell_type": "code",
   "execution_count": null,
   "metadata": {},
   "outputs": [],
   "source": []
  },
  {
   "cell_type": "code",
   "execution_count": null,
   "metadata": {},
   "outputs": [],
   "source": []
  },
  {
   "cell_type": "code",
   "execution_count": null,
   "metadata": {},
   "outputs": [],
   "source": []
  },
  {
   "cell_type": "code",
   "execution_count": null,
   "metadata": {},
   "outputs": [],
   "source": []
  },
  {
   "cell_type": "code",
   "execution_count": null,
   "metadata": {},
   "outputs": [],
   "source": []
  },
  {
   "cell_type": "code",
   "execution_count": null,
   "metadata": {},
   "outputs": [],
   "source": []
  },
  {
   "cell_type": "code",
   "execution_count": null,
   "metadata": {},
   "outputs": [],
   "source": []
  },
  {
   "cell_type": "code",
   "execution_count": null,
   "metadata": {},
   "outputs": [],
   "source": []
  }
 ],
 "metadata": {
  "kernelspec": {
   "display_name": "envPytorch",
   "language": "python",
   "name": "python3"
  },
  "language_info": {
   "codemirror_mode": {
    "name": "ipython",
    "version": 3
   },
   "file_extension": ".py",
   "mimetype": "text/x-python",
   "name": "python",
   "nbconvert_exporter": "python",
   "pygments_lexer": "ipython3",
   "version": "3.10.4"
  }
 },
 "nbformat": 4,
 "nbformat_minor": 2
}
